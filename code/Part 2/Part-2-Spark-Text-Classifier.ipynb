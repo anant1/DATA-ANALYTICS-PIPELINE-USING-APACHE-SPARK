{
 "cells": [
  {
   "cell_type": "markdown",
   "metadata": {
    "collapsed": true
   },
   "source": [
    "<span style=\"color:red;font-weight:bold\">Jayant Solanki</span>,\n",
    "<span style=\"color:red;font-weight:bold\">Anant Gupta</span>\n",
    "<hr/>\n",
    "## <span style=\"float:left\">Lab 3</span>\n",
    "### <span style=\"float:right\">DATA ANALYTICS PIPELINE USING APACHE SPARK</span>\n",
    "#### <span style=\"float:right\">Article classifier using PySpark</span>\n",
    "<hr/>"
   ]
  },
  {
   "cell_type": "code",
   "execution_count": 2,
   "metadata": {},
   "outputs": [],
   "source": [
    "from pyspark.sql import SQLContext\n",
    "from pyspark import SparkContext\n",
    "sc =SparkContext()\n",
    "sqlContext = SQLContext(sc)\n",
    "from nltk.corpus import stopwords\n",
    "from pyspark.ml.feature import RegexTokenizer, StopWordsRemover, CountVectorizer\n",
    "from pyspark.ml import Pipeline\n",
    "from pyspark.ml.feature import OneHotEncoder, StringIndexer, VectorAssembler\n",
    "from pyspark.ml.feature import HashingTF, IDF\n",
    "from pyspark.ml.evaluation import MulticlassClassificationEvaluator\n",
    "from pyspark.mllib.evaluation import MulticlassMetrics\n",
    "\n",
    "from pyspark.sql.functions import col\n",
    "#LR\n",
    "from pyspark.ml.classification import LogisticRegression\n",
    "#NB\n",
    "from pyspark.ml.classification import NaiveBayes\n",
    "#RF\n",
    "from pyspark.ml.classification import RandomForestClassifier"
   ]
  },
  {
   "cell_type": "code",
   "execution_count": 3,
   "metadata": {},
   "outputs": [
    {
     "name": "stdout",
     "output_type": "stream",
     "text": [
      "+--------+--------------------+\n",
      "|Category|                Body|\n",
      "+--------+--------------------+\n",
      "|business|SEOUL  WITH A FAL...|\n",
      "|business|JEFFERSON CITY  M...|\n",
      "|business|WASHINGTON  THE T...|\n",
      "|business|REUTERS    METLIF...|\n",
      "|  sports|DALLAS  WHEN DALL...|\n",
      "+--------+--------------------+\n",
      "only showing top 5 rows\n",
      "\n"
     ]
    }
   ],
   "source": [
    "stop_word_list = stopwords.words('english')\n",
    "#  to quickly test if a word is not a stop word, use a set:\n",
    "stop_word_set = set(stop_word_list)\n",
    "stop_word_set = list(stop_word_set)\n",
    "# Reading the training Data\n",
    "data = sqlContext.read.format('com.databricks.spark.csv').options(header='true', inferschema='true').load('articles-train.csv')\n",
    "drop_list = ['Dates', 'Topic', 'Page']\n",
    "data = data.select([column for column in data.columns if column not in drop_list])\n",
    "data.show(5)\n"
   ]
  },
  {
   "cell_type": "code",
   "execution_count": 4,
   "metadata": {},
   "outputs": [
    {
     "name": "stdout",
     "output_type": "stream",
     "text": [
      "root\n",
      " |-- Category: string (nullable = true)\n",
      " |-- Body: string (nullable = true)\n",
      "\n"
     ]
    }
   ],
   "source": [
    "data.printSchema()"
   ]
  },
  {
   "cell_type": "markdown",
   "metadata": {},
   "source": [
    "# Top 4 Article categories:"
   ]
  },
  {
   "cell_type": "code",
   "execution_count": 5,
   "metadata": {},
   "outputs": [
    {
     "name": "stdout",
     "output_type": "stream",
     "text": [
      "+-------------+-----+\n",
      "|     Category|count|\n",
      "+-------------+-----+\n",
      "|     business| 2309|\n",
      "|     politics| 1666|\n",
      "|       sports|  571|\n",
      "|entertainment|  464|\n",
      "+-------------+-----+\n",
      "\n"
     ]
    }
   ],
   "source": [
    "\n",
    "data.groupBy(\"Category\") \\\n",
    "    .count() \\\n",
    "    .orderBy(col(\"count\").desc()) \\\n",
    "    .show()"
   ]
  },
  {
   "cell_type": "markdown",
   "metadata": {},
   "source": [
    "# Showing top 20 frequent articles:"
   ]
  },
  {
   "cell_type": "code",
   "execution_count": 6,
   "metadata": {},
   "outputs": [
    {
     "name": "stdout",
     "output_type": "stream",
     "text": [
      "+--------------------+-----+\n",
      "|                Body|count|\n",
      "+--------------------+-----+\n",
      "|HERE IS THE APRIL...|    9|\n",
      "|BEVERLY HILLS  CA...|    9|\n",
      "|BEIJING  U S  TRE...|    8|\n",
      "|WANT TO GET THIS ...|    8|\n",
      "|JOANNE KIM AND AY...|    7|\n",
      "|WANT TO GET THIS ...|    7|\n",
      "|INDIANAPOLIS  IND...|    7|\n",
      "|INDIANAPOLIS  OKL...|    7|\n",
      "|WANT TO GET THIS ...|    7|\n",
      "|WASHINGTON  FPI M...|    7|\n",
      "|LONDON  A RESURGE...|    7|\n",
      "|WASHINGTON  A LOW...|    6|\n",
      "|COPENHAGEN  AT FI...|    6|\n",
      "|PHOENIX  WHEN FOR...|    6|\n",
      "|HERE ARE THE WEEK...|    6|\n",
      "|VENTURA  CALIF   ...|    6|\n",
      "|WE MAY NEVER STOP...|    6|\n",
      "|INDIANAPOLIS  IND...|    6|\n",
      "|LONDON  BRITAIN S...|    6|\n",
      "|IT FEELS LIKE KAN...|    6|\n",
      "+--------------------+-----+\n",
      "only showing top 20 rows\n",
      "\n"
     ]
    }
   ],
   "source": [
    "data.groupBy(\"Body\") \\\n",
    "    .count() \\\n",
    "    .orderBy(col(\"count\").desc()) \\\n",
    "    .show()"
   ]
  },
  {
   "cell_type": "code",
   "execution_count": 7,
   "metadata": {
    "collapsed": true
   },
   "outputs": [],
   "source": [
    "\n",
    "# regular expression tokenizer\n",
    "regexTokenizer = RegexTokenizer(inputCol=\"Body\", outputCol=\"words\", pattern=\"\\\\W\")\n",
    "# stop words\n",
    "#using ntlk stopwords\n",
    "stopwordsRemover = StopWordsRemover(inputCol=\"words\", outputCol=\"filtered\").setStopWords(stop_word_set)"
   ]
  },
  {
   "cell_type": "code",
   "execution_count": 8,
   "metadata": {},
   "outputs": [
    {
     "name": "stdout",
     "output_type": "stream",
     "text": [
      "+------------------------------+-------------+------------------------------+-----+----------+\n",
      "|                          Body|     Category|                   probability|label|prediction|\n",
      "+------------------------------+-------------+------------------------------+-----+----------+\n",
      "|DALIAN MANILA  CHINA PLANS ...|     business|[0.9993406144602194,1.38312...|  0.0|       0.0|\n",
      "|LONDON FRANKFURT  GERMANY S...|     business|[0.9980119859619365,4.94516...|  0.0|       0.0|\n",
      "|SYDNEY  AUSTRALIA S BIGGEST...|     business|[0.997918087143643,0.001395...|  0.0|       0.0|\n",
      "|PARIS  SOCGEN S CHIEF EXECU...|     business|[0.9972509638122917,0.00105...|  0.0|       0.0|\n",
      "|ADEN  YEMEN  THE YOUNG MOTH...|     business|[0.9964283193746383,8.25149...|  0.0|       0.0|\n",
      "|ADEN  YEMEN  THE YOUNG MOTH...|     business|[0.9964283193746383,8.25149...|  0.0|       0.0|\n",
      "|HONG KONG  A GADGET MAKER  ...|     business|[0.9952530049599436,0.00187...|  0.0|       0.0|\n",
      "|HONG KONG  A GADGET MAKER  ...|entertainment|[0.9952530049599436,0.00187...|  3.0|       0.0|\n",
      "|HONG KONG  A GADGET MAKER  ...|     business|[0.9952530049599436,0.00187...|  0.0|       0.0|\n",
      "|LPC    THE SIZE OF FUND FIN...|     business|[0.9947368764797554,0.00136...|  0.0|       0.0|\n",
      "|LPC    THE SIZE OF FUND FIN...|     business|[0.9947368764797554,0.00136...|  0.0|       0.0|\n",
      "|LOS ANGELES LONDON  SWISS B...|     business|[0.9943281572841745,0.00255...|  0.0|       0.0|\n",
      "|TORONTO  FOR ABOUT AN HOUR ...|     business|[0.9940307922171391,0.00146...|  0.0|       0.0|\n",
      "|BEIJING HONG KONG  CHINESE ...|     business|[0.9933015793572394,0.00104...|  0.0|       0.0|\n",
      "|PARIS  THE FRENCH FINANCE M...|     business|[0.9916311890367605,0.00552...|  0.0|       0.0|\n",
      "|REUTERS    TYSON FOODS INC ...|     business|[0.991278126599585,0.004102...|  0.0|       0.0|\n",
      "|FRANKFURT  THE EUROPEAN CEN...|     business|[0.9905817826204851,0.00543...|  0.0|       0.0|\n",
      "|LONDON  BRITISH MANUFACTURI...|     business|[0.9902443588753802,0.00720...|  0.0|       0.0|\n",
      "|PARIS  PRESSURE ON AIR FRAN...|     business|[0.9902183367998199,0.00498...|  0.0|       0.0|\n",
      "|PARIS  PRESSURE ON AIR FRAN...|     business|[0.9902183367998199,0.00498...|  0.0|       0.0|\n",
      "+------------------------------+-------------+------------------------------+-----+----------+\n",
      "only showing top 20 rows\n",
      "\n"
     ]
    }
   ],
   "source": [
    "#convertng string category to integer labels\n",
    "label_stringIdx = StringIndexer(inputCol = \"Category\", outputCol = \"label\")\n",
    "hashingTF = HashingTF(inputCol=\"filtered\", outputCol=\"rawFeatures\", numFeatures=10000)\n",
    "idf = IDF(inputCol=\"rawFeatures\", outputCol=\"features\", minDocFreq=5) #minDocFreq: remove sparse terms\n",
    "pipeline = Pipeline(stages=[regexTokenizer, stopwordsRemover, hashingTF, idf, label_stringIdx])\n",
    "pipelineFit = pipeline.fit(data)\n",
    "dataset = pipelineFit.transform(data)\n",
    "#creating internal test data by partitioning the training data, 80% and 20%\n",
    "(trainingData, testData) = dataset.randomSplit([0.8, 0.2], seed = 324)\n",
    "lr = LogisticRegression(maxIter=20, regParam=0.3, elasticNetParam=0)\n",
    "lrModel = lr.fit(trainingData)\n",
    "predictions = lrModel.transform(testData)\n",
    "predictions.filter(predictions['prediction'] == 0) \\\n",
    "    .select(\"Body\",\"Category\",\"probability\",\"label\",\"prediction\") \\\n",
    "    .orderBy(\"probability\", ascending=False) \\\n",
    "    .show(n = 20, truncate = 30)"
   ]
  },
  {
   "cell_type": "code",
   "execution_count": 9,
   "metadata": {},
   "outputs": [
    {
     "name": "stdout",
     "output_type": "stream",
     "text": [
      "65.66287185364578%\n"
     ]
    }
   ],
   "source": [
    "#printing the accuracy for test data, internal partition\n",
    "\n",
    "evaluator = MulticlassClassificationEvaluator(predictionCol=\"prediction\")\n",
    "print(str(evaluator.evaluate(predictions)*100)+\"%\")\n"
   ]
  },
  {
   "cell_type": "code",
   "execution_count": 10,
   "metadata": {
    "collapsed": true
   },
   "outputs": [],
   "source": [
    "## Getting Test Data"
   ]
  },
  {
   "cell_type": "code",
   "execution_count": 11,
   "metadata": {},
   "outputs": [
    {
     "name": "stdout",
     "output_type": "stream",
     "text": [
      "+--------+--------------------+\n",
      "|Category|                Body|\n",
      "+--------+--------------------+\n",
      "|business|SEOUL  WITH A FAL...|\n",
      "|business|JEFFERSON CITY  M...|\n",
      "|business|WASHINGTON  THE T...|\n",
      "|business|REUTERS    METLIF...|\n",
      "|  sports|DALLAS  WHEN DALL...|\n",
      "+--------+--------------------+\n",
      "only showing top 5 rows\n",
      "\n"
     ]
    }
   ],
   "source": [
    "test = sqlContext.read.format('com.databricks.spark.csv').options(header='true', inferschema='true').load('articles-test.csv')\n",
    "drop_list = ['Dates', 'Topic', 'Page']\n",
    "test = data.select([column for column in data.columns if column not in drop_list])\n",
    "test.show(5)"
   ]
  },
  {
   "cell_type": "code",
   "execution_count": 12,
   "metadata": {},
   "outputs": [],
   "source": [
    "\n",
    "# test.groupBy(\"Category\") \\\n",
    "#     .count() \\\n",
    "#     .orderBy(col(\"count\").desc()) \\\n",
    "#     .show()"
   ]
  },
  {
   "cell_type": "code",
   "execution_count": 13,
   "metadata": {
    "collapsed": true
   },
   "outputs": [],
   "source": [
    "#creating pipeline for test data\n",
    "label_stringIdx = StringIndexer(inputCol = \"Category\", outputCol = \"label\")\n",
    "hashingTF = HashingTF(inputCol=\"filtered\", outputCol=\"rawFeatures\", numFeatures=10000)\n",
    "idf = IDF(inputCol=\"rawFeatures\", outputCol=\"features\", minDocFreq=5) #minDocFreq: remove sparse terms\n",
    "pipeline = Pipeline(stages=[regexTokenizer, stopwordsRemover, hashingTF, idf, label_stringIdx])\n",
    "pipelineFit = pipeline.fit(test)"
   ]
  },
  {
   "cell_type": "code",
   "execution_count": 14,
   "metadata": {
    "collapsed": true
   },
   "outputs": [],
   "source": [
    "testset = pipelineFit.transform(test)"
   ]
  },
  {
   "cell_type": "markdown",
   "metadata": {},
   "source": [
    "# performing the prediction on test data"
   ]
  },
  {
   "cell_type": "code",
   "execution_count": 15,
   "metadata": {},
   "outputs": [
    {
     "name": "stdout",
     "output_type": "stream",
     "text": [
      "+------------------------------+--------+------------------------------+-----+----------+\n",
      "|                          Body|Category|                   probability|label|prediction|\n",
      "+------------------------------+--------+------------------------------+-----+----------+\n",
      "|DALIAN MANILA  CHINA PLANS ...|business|[0.9993406144602194,1.38312...|  0.0|       0.0|\n",
      "|DALIAN MANILA  CHINA PLANS ...|business|[0.9993406144602194,1.38312...|  0.0|       0.0|\n",
      "|LONDON  LLOYD S OF LONDON  ...|business|[0.9993012765310461,2.97857...|  0.0|       0.0|\n",
      "|LONDON  LLOYD S OF LONDON  ...|business|[0.9990994852983173,4.17553...|  0.0|       0.0|\n",
      "|LONDON  LLOYD S OF LONDON  ...|business|[0.9990994852983173,4.17553...|  0.0|       0.0|\n",
      "|LONDON  SAINSBURY S  BILLIO...|business|[0.9989058826539344,2.26016...|  0.0|       0.0|\n",
      "|LONDON  SAINSBURY S  BILLIO...|business|[0.9989058826539344,2.26016...|  0.0|       0.0|\n",
      "|LONDON  IF SAINSBURY S IS T...|business|[0.9986346217462178,4.92853...|  0.0|       0.0|\n",
      "|LONDON  IF SAINSBURY S IS T...|business|[0.9986346217462178,4.92853...|  0.0|       0.0|\n",
      "|LONDON FRANKFURT  GERMANY S...|business|[0.9980119859619365,4.94516...|  0.0|       0.0|\n",
      "|LONDON FRANKFURT  GERMANY S...|business|[0.9980119859619365,4.94516...|  0.0|       0.0|\n",
      "|LONDON FRANKFURT  GERMANY S...|business|[0.9980119859619365,4.94516...|  0.0|       0.0|\n",
      "|SYDNEY  AUSTRALIA S BIGGEST...|business|[0.997918087143643,0.001395...|  0.0|       0.0|\n",
      "|SYDNEY  AUSTRALIA S BIGGEST...|business|[0.997918087143643,0.001395...|  0.0|       0.0|\n",
      "|SYDNEY  AUSTRALIA S BIGGEST...|business|[0.997918087143643,0.001395...|  0.0|       0.0|\n",
      "|NEW YORK  BILLIONAIRE INVES...|business|[0.9975384846983891,9.02347...|  0.0|       0.0|\n",
      "|NEW YORK  BILLIONAIRE INVES...|business|[0.9975384846983891,9.02347...|  0.0|       0.0|\n",
      "|SYDNEY  AUSTRALIA S ANZ SAI...|business|[0.9973555937642054,9.04636...|  0.0|       0.0|\n",
      "|SYDNEY  AUSTRALIA S ANZ SAI...|business|[0.9973555937642054,9.04636...|  0.0|       0.0|\n",
      "|SYDNEY  AUSTRALIA S ANZ SAI...|business|[0.9973555937642054,9.04636...|  0.0|       0.0|\n",
      "+------------------------------+--------+------------------------------+-----+----------+\n",
      "only showing top 20 rows\n",
      "\n"
     ]
    }
   ],
   "source": [
    "predictions = lrModel.transform(testset)\n",
    "predictions.filter(predictions['prediction'] == 0) \\\n",
    "    .select(\"Body\",\"Category\",\"probability\",\"label\",\"prediction\") \\\n",
    "    .orderBy(\"probability\", ascending=False) \\\n",
    "    .show(n = 20, truncate = 30)"
   ]
  },
  {
   "cell_type": "code",
   "execution_count": 16,
   "metadata": {},
   "outputs": [
    {
     "name": "stdout",
     "output_type": "stream",
     "text": [
      "79.79084922846847%\n"
     ]
    }
   ],
   "source": [
    "#printing accuracy for test data\n",
    "evaluator = MulticlassClassificationEvaluator(predictionCol=\"prediction\")\n",
    "print(str(evaluator.evaluate(predictions)*100)+\"%\")"
   ]
  },
  {
   "cell_type": "markdown",
   "metadata": {},
   "source": [
    "# Naive Bayes\n"
   ]
  },
  {
   "cell_type": "code",
   "execution_count": 17,
   "metadata": {},
   "outputs": [
    {
     "name": "stdout",
     "output_type": "stream",
     "text": [
      "+------------------------------+--------+------------------------------+-----+----------+\n",
      "|                          Body|Category|                   probability|label|prediction|\n",
      "+------------------------------+--------+------------------------------+-----+----------+\n",
      "|MINNEAPOLIS  AN INFLUENTIAL...|politics|[1.0,5.330226441107558E-17,...|  1.0|       0.0|\n",
      "|BEIJING  CHINA WOULD WELCOM...|business|[1.0,4.159153239216394E-17,...|  0.0|       0.0|\n",
      "|WASHINGTON  THE U S  INTERN...|business|[1.0,2.0264435657261993E-17...|  0.0|       0.0|\n",
      "|WHEN THE NATIONAL LABOR REL...|politics|[1.0,3.589415387489051E-18,...|  1.0|       0.0|\n",
      "|DUBAI PARIS ABU DHABI  AIRB...|business|[1.0,8.86738023340102E-19,3...|  0.0|       0.0|\n",
      "|PARIS  IF THERE S ONE INDUS...|business|[1.0,6.724641323965758E-19,...|  0.0|       0.0|\n",
      "|PARIS  IF THERE S ONE INDUS...|business|[1.0,6.724641323965758E-19,...|  0.0|       0.0|\n",
      "|BERLIN  INVESTMENT ADVISORY...|business|[1.0,6.363486360425474E-19,...|  0.0|       0.0|\n",
      "|DETROIT  TOYOTA MOTOR CORP ...|business|[1.0,2.7638069561234705E-19...|  0.0|       0.0|\n",
      "|BERLIN  GERMAN CHANCELLOR A...|business|[1.0,2.205764994626222E-19,...|  0.0|       0.0|\n",
      "+------------------------------+--------+------------------------------+-----+----------+\n",
      "only showing top 10 rows\n",
      "\n"
     ]
    }
   ],
   "source": [
    "#training the naive bayes\n",
    "nb = NaiveBayes(smoothing=1)\n",
    "model = nb.fit(trainingData)\n",
    "predictions = model.transform(testData)\n",
    "predictions.filter(predictions['prediction'] == 0) \\\n",
    "    .select(\"Body\",\"Category\",\"probability\",\"label\",\"prediction\") \\\n",
    "    .orderBy(\"probability\", ascending=False) \\\n",
    "    .show(n = 10, truncate = 30)"
   ]
  },
  {
   "cell_type": "code",
   "execution_count": 18,
   "metadata": {},
   "outputs": [
    {
     "name": "stdout",
     "output_type": "stream",
     "text": [
      "71.43992853147192%\n"
     ]
    }
   ],
   "source": [
    "#printing the accuracy for test data, internal partition\n",
    "evaluator = MulticlassClassificationEvaluator(predictionCol=\"prediction\")\n",
    "print(str(evaluator.evaluate(predictions)*100)+\"%\")"
   ]
  },
  {
   "cell_type": "code",
   "execution_count": 19,
   "metadata": {
    "collapsed": true
   },
   "outputs": [],
   "source": [
    "#printing accuracy for test data"
   ]
  },
  {
   "cell_type": "code",
   "execution_count": 20,
   "metadata": {},
   "outputs": [
    {
     "name": "stdout",
     "output_type": "stream",
     "text": [
      "+------------------------------+--------+------------------------------+-----+----------+\n",
      "|                          Body|Category|                   probability|label|prediction|\n",
      "+------------------------------+--------+------------------------------+-----+----------+\n",
      "|MUSEUMS HAVE LONG CONSIDERE...|business|[1.0,6.299709301157002E-17,...|  0.0|       0.0|\n",
      "|MINNEAPOLIS  AN INFLUENTIAL...|politics|[1.0,5.330226441107558E-17,...|  1.0|       0.0|\n",
      "|BEIJING  CHINA WOULD WELCOM...|business|[1.0,4.159153239216394E-17,...|  0.0|       0.0|\n",
      "|WASHINGTON  JPMORGAN CHASE ...|business|[1.0,3.687596167915898E-17,...|  0.0|       0.0|\n",
      "|WASHINGTON  JPMORGAN CHASE ...|politics|[1.0,3.687596167915898E-17,...|  1.0|       0.0|\n",
      "|NAIROBI  UNIDENTIFIED GUNME...|business|[1.0,3.398088016330037E-17,...|  0.0|       0.0|\n",
      "|PHOENIX  STRIKING ARIZONA T...|business|[1.0,3.2075171893610285E-17...|  0.0|       0.0|\n",
      "|PHOENIX  STRIKING ARIZONA T...|politics|[1.0,3.2075171893610285E-17...|  1.0|       0.0|\n",
      "|WASHINGTON  THE U S  INTERN...|politics|[1.0,2.0264435657261993E-17...|  1.0|       0.0|\n",
      "|WASHINGTON  THE U S  INTERN...|business|[1.0,2.0264435657261993E-17...|  0.0|       0.0|\n",
      "+------------------------------+--------+------------------------------+-----+----------+\n",
      "only showing top 10 rows\n",
      "\n"
     ]
    }
   ],
   "source": [
    "predictions = model.transform(testset)\n",
    "predictions.filter(predictions['prediction'] == 0) \\\n",
    "    .select(\"Body\",\"Category\",\"probability\",\"label\",\"prediction\") \\\n",
    "    .orderBy(\"probability\", ascending=False) \\\n",
    "    .show(n = 10, truncate = 30)"
   ]
  },
  {
   "cell_type": "markdown",
   "metadata": {},
   "source": [
    "# performing the prediction on test data"
   ]
  },
  {
   "cell_type": "code",
   "execution_count": 21,
   "metadata": {},
   "outputs": [
    {
     "name": "stdout",
     "output_type": "stream",
     "text": [
      "76.94682115429076%\n"
     ]
    }
   ],
   "source": [
    "evaluator = MulticlassClassificationEvaluator(predictionCol=\"prediction\")\n",
    "print(str(evaluator.evaluate(predictions)*100)+\"%\")"
   ]
  },
  {
   "cell_type": "code",
   "execution_count": null,
   "metadata": {
    "collapsed": true
   },
   "outputs": [],
   "source": []
  },
  {
   "cell_type": "markdown",
   "metadata": {
    "collapsed": true
   },
   "source": [
    "# randomforest"
   ]
  },
  {
   "cell_type": "code",
   "execution_count": 22,
   "metadata": {},
   "outputs": [
    {
     "name": "stdout",
     "output_type": "stream",
     "text": [
      "+------------------------------+-------------+------------------------------+-----+----------+\n",
      "|                          Body|     Category|                   probability|label|prediction|\n",
      "+------------------------------+-------------+------------------------------+-----+----------+\n",
      "|REUTERS    YUM BRANDS INC S...|     business|[0.6045200571578614,0.22972...|  0.0|       0.0|\n",
      "|PARIS  BNP PARIBAS  FRANCE ...|     business|[0.5990675770405907,0.22939...|  0.0|       0.0|\n",
      "|REUTERS    SHARES OF APPLE ...|entertainment|[0.5976971546105987,0.22424...|  3.0|       0.0|\n",
      "|REUTERS    SHARES OF APPLE ...|     business|[0.5976971546105987,0.22424...|  0.0|       0.0|\n",
      "|REUTERS    SHARES IN DANISH...|     business|[0.5941670499121319,0.23042...|  0.0|       0.0|\n",
      "|LOS ANGELES LONDON  SWISS B...|     business|[0.5932977212637036,0.24163...|  0.0|       0.0|\n",
      "|LOS ANGELES  SPROUTS FARMER...|     business|[0.5923558071274136,0.23751...|  0.0|       0.0|\n",
      "|SAN FRANCISCO  SINCE APPLE ...|     business|[0.5914711133455667,0.24767...|  0.0|       0.0|\n",
      "|SAN FRANCISCO  SINCE APPLE ...|entertainment|[0.5914711133455667,0.24767...|  3.0|       0.0|\n",
      "|LONDON  SWISS BASED ENERGY ...|     business|[0.5901903614417651,0.24591...|  0.0|       0.0|\n",
      "+------------------------------+-------------+------------------------------+-----+----------+\n",
      "only showing top 10 rows\n",
      "\n"
     ]
    }
   ],
   "source": [
    "\n",
    "rf = RandomForestClassifier(labelCol=\"label\", \\\n",
    "                            featuresCol=\"features\", \\\n",
    "                            numTrees = 100, \\\n",
    "                            maxDepth = 4, \\\n",
    "                            maxBins = 32)\n",
    "# Train model with Training Data\n",
    "rfModel = rf.fit(trainingData)\n",
    "predictions = rfModel.transform(testData)\n",
    "predictions.filter(predictions['prediction'] == 0) \\\n",
    "    .select(\"Body\",\"Category\",\"probability\",\"label\",\"prediction\") \\\n",
    "    .orderBy(\"probability\", ascending=False) \\\n",
    "    .show(n = 10, truncate = 30)\n"
   ]
  },
  {
   "cell_type": "code",
   "execution_count": 23,
   "metadata": {},
   "outputs": [
    {
     "name": "stdout",
     "output_type": "stream",
     "text": [
      "48.32796582928188%\n"
     ]
    }
   ],
   "source": [
    "#printing the accuracy for test data, internal partition\n",
    "evaluator = MulticlassClassificationEvaluator(predictionCol=\"prediction\")\n",
    "print(str(evaluator.evaluate(predictions)*100)+\"%\")"
   ]
  },
  {
   "cell_type": "markdown",
   "metadata": {},
   "source": [
    "# performing the prediction on test data"
   ]
  },
  {
   "cell_type": "code",
   "execution_count": 24,
   "metadata": {},
   "outputs": [
    {
     "name": "stdout",
     "output_type": "stream",
     "text": [
      "+------------------------------+--------+------------------------------+-----+----------+\n",
      "|                          Body|Category|                   probability|label|prediction|\n",
      "+------------------------------+--------+------------------------------+-----+----------+\n",
      "|HONG KONG LONDON  STANDARD ...|business|[0.6257023876531506,0.20996...|  0.0|       0.0|\n",
      "|HONG KONG LONDON  STANDARD ...|business|[0.6257023876531506,0.20996...|  0.0|       0.0|\n",
      "|HONG KONG LONDON  STANDARD ...|business|[0.6257023876531506,0.20996...|  0.0|       0.0|\n",
      "|LONDON  A RESURGENT DOLLAR ...|business|[0.6152751974127849,0.21709...|  0.0|       0.0|\n",
      "|LONDON  A RESURGENT DOLLAR ...|business|[0.6152751974127849,0.21709...|  0.0|       0.0|\n",
      "|LONDON  A RESURGENT DOLLAR ...|business|[0.6152751974127849,0.21709...|  0.0|       0.0|\n",
      "|LONDON  A RESURGENT DOLLAR ...|business|[0.6152751974127849,0.21709...|  0.0|       0.0|\n",
      "|LONDON  A RESURGENT DOLLAR ...|business|[0.6152751974127849,0.21709...|  0.0|       0.0|\n",
      "|LONDON  A RESURGENT DOLLAR ...|business|[0.6152751974127849,0.21709...|  0.0|       0.0|\n",
      "|LONDON  A RESURGENT DOLLAR ...|business|[0.6152751974127849,0.21709...|  0.0|       0.0|\n",
      "+------------------------------+--------+------------------------------+-----+----------+\n",
      "only showing top 10 rows\n",
      "\n"
     ]
    }
   ],
   "source": [
    "predictions = rfModel.transform(testset)\n",
    "predictions.filter(predictions['prediction'] == 0) \\\n",
    "    .select(\"Body\",\"Category\",\"probability\",\"label\",\"prediction\") \\\n",
    "    .orderBy(\"probability\", ascending=False) \\\n",
    "    .show(n = 10, truncate = 30)"
   ]
  },
  {
   "cell_type": "code",
   "execution_count": 25,
   "metadata": {},
   "outputs": [
    {
     "name": "stdout",
     "output_type": "stream",
     "text": [
      "51.71334098816666%\n"
     ]
    }
   ],
   "source": [
    "evaluator = MulticlassClassificationEvaluator(predictionCol=\"prediction\")\n",
    "print(str(evaluator.evaluate(predictions)*100)+\"%\")\n"
   ]
  },
  {
   "cell_type": "code",
   "execution_count": null,
   "metadata": {
    "collapsed": true
   },
   "outputs": [],
   "source": []
  }
 ],
 "metadata": {
  "kernelspec": {
   "display_name": "Python 3",
   "language": "python",
   "name": "python3"
  },
  "language_info": {
   "codemirror_mode": {
    "name": "ipython",
    "version": 3
   },
   "file_extension": ".py",
   "mimetype": "text/x-python",
   "name": "python",
   "nbconvert_exporter": "python",
   "pygments_lexer": "ipython3",
   "version": "3.6.3"
  }
 },
 "nbformat": 4,
 "nbformat_minor": 2
}
