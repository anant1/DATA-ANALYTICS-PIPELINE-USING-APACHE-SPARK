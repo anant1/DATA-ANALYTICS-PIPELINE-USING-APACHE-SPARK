{
 "cells": [
  {
   "cell_type": "markdown",
   "metadata": {
    "_cell_guid": "5ba680f8-a3fc-446b-9a7b-9c3d2e4b246a",
    "_uuid": "ff70c24af3dd6fc32fb36a20646f7b5a13732197"
   },
   "source": [
    "### Simple Text Processing and Classification with Apache Spark\n",
    "---\n",
    "The aim of this notebook is to practise basic text processing using the Apache Spark with the use of the toxic comment text classification dataset. The machine learning and text processing used here are at a poor standard. The goal was mainly to convert the column `comment_text` into a column of sparse vectors for use in a classification algorithm in the spark `ml` library.  "
   ]
  },
  {
   "cell_type": "markdown",
   "metadata": {
    "_cell_guid": "ae3a254c-5a08-4ad6-a843-4ae741973778",
    "_uuid": "6c067929d097771eb75e25acdfae90799a951e6e"
   },
   "source": [
    "The `pyspark.ml` library is used for machine learning with Spark DataFrames. For machine learning with Spark RDDs use the `pyspark.mllib` library. "
   ]
  },
  {
   "cell_type": "code",
   "execution_count": 96,
   "metadata": {
    "_cell_guid": "88063855-e665-4b75-bd68-d05f629b1d46",
    "_kg_hide-output": true,
    "_uuid": "58e4c9a81b246eb525f96afbd0e685232f3d007d",
    "collapsed": true
   },
   "outputs": [],
   "source": [
    "import pandas as pd\n",
    "\n",
    "from pyspark.sql import SparkSession\n",
    "import pyspark.sql.functions as F\n",
    "import pyspark.sql.types as T\n",
    "from pyspark.ml.feature import Tokenizer, HashingTF, IDF\n",
    "from pyspark.ml.classification import LogisticRegression\n",
    "from pyspark.sql import SQLContext\n",
    "from pyspark.ml.feature import OneHotEncoder, StringIndexer, VectorAssembler\n",
    "from pyspark.ml import Pipeline\n",
    "# from pyspark import SparkContext\n",
    "# sc =SparkContext()\n",
    "# sqlContext = SQLContext(sc)\n",
    "from nltk.corpus import stopwords"
   ]
  },
  {
   "cell_type": "code",
   "execution_count": 97,
   "metadata": {
    "_cell_guid": "951d05e9-2f84-41ca-a9eb-3a158752fba8",
    "_kg_hide-output": true,
    "_uuid": "2cb96c2cfb08d1a7505f9ab898598d38bff3d0df",
    "collapsed": true
   },
   "outputs": [],
   "source": [
    "# Build a spark context\n",
    "hc = (SparkSession.builder\n",
    "                  .appName('Toxic Comment Classification')\n",
    "                  .enableHiveSupport()\n",
    "                  .config(\"spark.executor.memory\", \"4G\")\n",
    "                  .config(\"spark.driver.memory\",\"18G\")\n",
    "                  .config(\"spark.executor.cores\",\"7\")\n",
    "                  .config(\"spark.python.worker.memory\",\"4G\")\n",
    "                  .config(\"spark.driver.maxResultSize\",\"0\")\n",
    "                  .config(\"spark.sql.crossJoin.enabled\", \"true\")\n",
    "                  .config(\"spark.serializer\",\"org.apache.spark.serializer.KryoSerializer\")\n",
    "                  .config(\"spark.default.parallelism\",\"2\")\n",
    "                  .getOrCreate())"
   ]
  },
  {
   "cell_type": "code",
   "execution_count": 98,
   "metadata": {
    "_cell_guid": "479aa3d9-f12a-4ad7-a0fd-719300624006",
    "_uuid": "9c0a267388ce26e88296225f642951b4810b2329",
    "collapsed": true
   },
   "outputs": [],
   "source": [
    "hc.sparkContext.setLogLevel('INFO')"
   ]
  },
  {
   "cell_type": "code",
   "execution_count": 99,
   "metadata": {
    "_cell_guid": "04cafe5a-8fe5-4ac8-95ec-8a248eaf08b0",
    "_uuid": "9796d202f1329106b15e3443f748db45d2fdfc33"
   },
   "outputs": [],
   "source": [
    "hc.version\n",
    "sqlContext = SQLContext(hc)"
   ]
  },
  {
   "cell_type": "markdown",
   "metadata": {
    "_cell_guid": "ef731539-d035-4ce8-935b-1b7c117413cb",
    "_uuid": "fde136f134098374a4f029682653b672571ed56f"
   },
   "source": [
    "Unfortunately, as much as I love the addition of the csv reader in Spark version 2+ and the databricks spark-csv package, I was unable to use the packages to parse a multiline multi-character quoted record in a csv. As a result, I loaded the data into a DataFrame using Pandas, and then I converted the Pandas DataFrame to a Spark DataFrame."
   ]
  },
  {
   "cell_type": "code",
   "execution_count": 100,
   "metadata": {
    "_cell_guid": "596ef630-416c-49dd-a16c-eb04fd012148",
    "_kg_hide-output": true,
    "_uuid": "df7548029f02f8a56126d5a1102f05529a1ff19a"
   },
   "outputs": [
    {
     "name": "stdout",
     "output_type": "stream",
     "text": [
      "+--------+--------------------+\n",
      "|Category|                Body|\n",
      "+--------+--------------------+\n",
      "|business|SEOUL  WITH A FAL...|\n",
      "|business|JEFFERSON CITY  M...|\n",
      "|business|WASHINGTON  THE T...|\n",
      "|business|REUTERS    METLIF...|\n",
      "|  sports|DALLAS  WHEN DALL...|\n",
      "+--------+--------------------+\n",
      "only showing top 5 rows\n",
      "\n"
     ]
    }
   ],
   "source": [
    "def to_spark_df(fin):\n",
    "    \"\"\"\n",
    "    Parse a filepath to a spark dataframe using the pandas api.\n",
    "    \n",
    "    Parameters\n",
    "    ----------\n",
    "    fin : str\n",
    "        The path to the file on the local filesystem that contains the csv data.\n",
    "        \n",
    "    Returns\n",
    "    -------\n",
    "    df : pyspark.sql.dataframe.DataFrame\n",
    "        A spark DataFrame containing the parsed csv data.\n",
    "    \"\"\"\n",
    "    df = pd.read_csv(fin)\n",
    "    df.fillna(\"\", inplace=True)\n",
    "    df = hc.createDataFrame(df)\n",
    "    return(df)\n",
    "\n",
    "# Load the train-test sets\n",
    "# train = to_spark_df(\"../input/train.csv\")\n",
    "# test = to_spark_df(\"../input/test.csv\")\n",
    "train = sqlContext.read.format('com.databricks.spark.csv').options(header='true', inferschema='true').load('articles-train.csv')\n",
    "drop_list = ['Dates', 'Topic', 'Page']\n",
    "train = train.select([column for column in train.columns if column not in drop_list])\n",
    "train.show(5)"
   ]
  },
  {
   "cell_type": "code",
   "execution_count": 101,
   "metadata": {
    "_cell_guid": "42f9ad2b-96ea-4406-b1a4-dc7e67e8cafa",
    "_kg_hide-output": true,
    "_uuid": "a16f539c3e4e8d1e2985ada6e8140016e1625c7f",
    "collapsed": true
   },
   "outputs": [],
   "source": [
    "out_cols = [i for i in train.columns if i not in [\"Category\", \"Body\"]]"
   ]
  },
  {
   "cell_type": "code",
   "execution_count": 102,
   "metadata": {
    "_cell_guid": "7043dcab-24c3-47e4-a7b8-28506f92c6d9",
    "_kg_hide-output": true,
    "_uuid": "6ce0144e1c393a4dcf89c4ff245fd2003205de10"
   },
   "outputs": [
    {
     "name": "stdout",
     "output_type": "stream",
     "text": [
      "+--------+--------------------+\n",
      "|Category|                Body|\n",
      "+--------+--------------------+\n",
      "|business|SEOUL  WITH A FAL...|\n",
      "|business|JEFFERSON CITY  M...|\n",
      "|business|WASHINGTON  THE T...|\n",
      "|business|REUTERS    METLIF...|\n",
      "|  sports|DALLAS  WHEN DALL...|\n",
      "+--------+--------------------+\n",
      "only showing top 5 rows\n",
      "\n"
     ]
    }
   ],
   "source": [
    "# Sadly the output is not as  pretty as the pandas.head() function\n",
    "train.show(5)"
   ]
  },
  {
   "cell_type": "code",
   "execution_count": 103,
   "metadata": {
    "_cell_guid": "a1f69fcd-345f-4c73-80ea-cafac1d85179",
    "_kg_hide-output": true,
    "_uuid": "45d56e1e130d49fbfdb84bdfbff15a38fa64a2a7",
    "collapsed": true
   },
   "outputs": [],
   "source": [
    "# View some toxic comments\n",
    "# train.filter(F.col('toxic') == 1).show(5)"
   ]
  },
  {
   "cell_type": "code",
   "execution_count": 104,
   "metadata": {
    "_cell_guid": "a7b7efd5-9aaf-4773-ab0e-ba2e3535aee6",
    "_kg_hide-output": true,
    "_uuid": "e10741ca332b641cba69fcdf6e5f5ded1fa74536",
    "collapsed": true
   },
   "outputs": [],
   "source": [
    "# Basic sentence tokenizer\n",
    "tokenizer = Tokenizer(inputCol=\"Body\", outputCol=\"words\")\n",
    "wordsData = tokenizer.transform(train)"
   ]
  },
  {
   "cell_type": "code",
   "execution_count": 105,
   "metadata": {
    "_cell_guid": "07c65950-2377-4a16-a616-4d8126f327f2",
    "_kg_hide-output": true,
    "_uuid": "fd83361dd1833f1818ae5026f1bec7c2a2ebc670",
    "collapsed": true
   },
   "outputs": [],
   "source": [
    "# Count the words in a document\n",
    "hashingTF = HashingTF(inputCol=\"words\", outputCol=\"rawFeatures\")\n",
    "tf = hashingTF.transform(wordsData)"
   ]
  },
  {
   "cell_type": "code",
   "execution_count": 106,
   "metadata": {
    "_cell_guid": "15e617e5-87da-43fb-84d0-296edcd93539",
    "_kg_hide-output": true,
    "_uuid": "e438e74459ed44a83366c5a0cf3c1c391fa74f4e"
   },
   "outputs": [
    {
     "data": {
      "text/plain": [
       "[Row(rawFeatures=SparseVector(262144, {619: 1.0, 4869: 1.0, 5377: 1.0, 5381: 1.0, 6051: 1.0, 8630: 1.0, 9639: 6.0, 10625: 1.0, 11689: 3.0, 15664: 1.0, 15773: 1.0, 15889: 1.0, 16332: 4.0, 17349: 1.0, 19153: 1.0, 19208: 1.0, 19862: 1.0, 22939: 2.0, 24145: 1.0, 24176: 1.0, 24417: 1.0, 24661: 1.0, 24980: 1.0, 25000: 1.0, 25217: 2.0, 25551: 1.0, 25570: 2.0, 29945: 1.0, 30905: 1.0, 31463: 1.0, 33182: 1.0, 34140: 1.0, 35584: 1.0, 42438: 1.0, 44548: 1.0, 47484: 1.0, 48448: 1.0, 49213: 1.0, 49936: 1.0, 50293: 1.0, 50940: 4.0, 52206: 1.0, 52805: 1.0, 52914: 1.0, 53049: 1.0, 56614: 2.0, 59853: 1.0, 61951: 1.0, 63295: 1.0, 66458: 1.0, 66980: 1.0, 71002: 1.0, 71524: 1.0, 71826: 1.0, 72609: 1.0, 74383: 1.0, 77113: 1.0, 77275: 1.0, 80689: 1.0, 80848: 1.0, 81566: 1.0, 82111: 2.0, 87478: 1.0, 89188: 1.0, 90138: 1.0, 90757: 2.0, 91028: 1.0, 91677: 4.0, 91878: 1.0, 94533: 3.0, 95402: 1.0, 95477: 1.0, 95975: 1.0, 96638: 1.0, 96822: 1.0, 99500: 1.0, 100258: 2.0, 100604: 1.0, 101160: 1.0, 101169: 1.0, 103838: 15.0, 107299: 1.0, 107332: 1.0, 108541: 1.0, 108922: 1.0, 113764: 1.0, 114178: 1.0, 114686: 2.0, 116056: 1.0, 116782: 1.0, 120904: 1.0, 121839: 3.0, 126466: 2.0, 130698: 3.0, 130894: 1.0, 133143: 6.0, 134867: 1.0, 135499: 1.0, 138677: 3.0, 140390: 1.0, 140784: 3.0, 141416: 1.0, 141522: 1.0, 143789: 1.0, 144418: 7.0, 146945: 1.0, 147268: 1.0, 149300: 1.0, 149868: 1.0, 158559: 1.0, 159354: 1.0, 162231: 1.0, 163502: 1.0, 166629: 1.0, 169645: 1.0, 171284: 2.0, 172634: 5.0, 173511: 1.0, 175321: 1.0, 175541: 1.0, 176964: 4.0, 179832: 6.0, 187278: 2.0, 188570: 3.0, 190676: 1.0, 191236: 1.0, 195372: 2.0, 199255: 1.0, 202534: 1.0, 205044: 4.0, 205876: 1.0, 206410: 6.0, 206426: 1.0, 206616: 1.0, 208352: 2.0, 215995: 1.0, 218086: 1.0, 222037: 1.0, 222453: 3.0, 222711: 1.0, 224066: 1.0, 226681: 1.0, 227003: 1.0, 227410: 11.0, 227860: 1.0, 228671: 1.0, 229407: 1.0, 230277: 1.0, 230441: 1.0, 230634: 3.0, 230962: 2.0, 231428: 1.0, 231900: 3.0, 233566: 1.0, 237968: 1.0, 240061: 1.0, 240702: 1.0, 243094: 1.0, 243455: 1.0, 245474: 1.0, 247586: 1.0, 249180: 25.0, 251904: 1.0, 252272: 1.0, 252298: 1.0, 252519: 1.0, 255766: 1.0, 258463: 2.0, 261388: 1.0})),\n",
       " Row(rawFeatures=SparseVector(262144, {2325: 1.0, 3168: 1.0, 4584: 1.0, 4713: 1.0, 5381: 2.0, 6051: 1.0, 6160: 2.0, 6693: 1.0, 8186: 2.0, 8500: 1.0, 8916: 1.0, 8976: 1.0, 9521: 1.0, 9639: 27.0, 11104: 1.0, 12074: 6.0, 12761: 1.0, 13142: 2.0, 13396: 1.0, 13471: 6.0, 13564: 1.0, 13881: 1.0, 14376: 18.0, 15207: 2.0, 15889: 10.0, 16332: 22.0, 17791: 1.0, 18737: 2.0, 18910: 9.0, 19003: 1.0, 20296: 1.0, 20326: 1.0, 20998: 1.0, 21683: 1.0, 21715: 3.0, 23893: 1.0, 24145: 1.0, 25217: 3.0, 25538: 2.0, 25551: 3.0, 25570: 14.0, 25964: 2.0, 26616: 1.0, 27760: 10.0, 28513: 5.0, 29367: 3.0, 29945: 1.0, 29952: 1.0, 30312: 6.0, 30934: 2.0, 31691: 1.0, 32413: 4.0, 32425: 2.0, 33088: 1.0, 34036: 1.0, 35263: 1.0, 35735: 1.0, 35959: 1.0, 36012: 1.0, 37311: 1.0, 37542: 1.0, 37948: 1.0, 38765: 1.0, 40333: 1.0, 42549: 1.0, 44265: 2.0, 45942: 1.0, 46044: 1.0, 46437: 1.0, 47032: 1.0, 47309: 1.0, 47711: 1.0, 48448: 10.0, 50791: 1.0, 50940: 7.0, 52914: 1.0, 53686: 1.0, 54860: 1.0, 56516: 2.0, 57400: 2.0, 58227: 2.0, 59255: 9.0, 59853: 2.0, 59892: 1.0, 60392: 6.0, 60407: 6.0, 60771: 3.0, 61256: 1.0, 61864: 1.0, 62790: 3.0, 63285: 1.0, 63391: 4.0, 65800: 1.0, 65844: 1.0, 66275: 1.0, 66495: 2.0, 66980: 12.0, 68369: 1.0, 70162: 3.0, 71524: 1.0, 72165: 6.0, 72268: 1.0, 73197: 1.0, 74290: 1.0, 74460: 1.0, 74796: 1.0, 75368: 4.0, 76515: 1.0, 77329: 2.0, 77372: 1.0, 79567: 5.0, 80333: 2.0, 81052: 1.0, 81095: 2.0, 81162: 4.0, 81289: 1.0, 82321: 2.0, 83300: 2.0, 84411: 1.0, 85013: 1.0, 86175: 3.0, 86813: 2.0, 87478: 2.0, 89074: 3.0, 89237: 1.0, 89356: 2.0, 89493: 1.0, 89689: 2.0, 89853: 9.0, 90859: 1.0, 91137: 5.0, 91677: 11.0, 92778: 4.0, 94533: 13.0, 95109: 1.0, 95457: 3.0, 96087: 1.0, 98627: 1.0, 99585: 1.0, 99895: 1.0, 100258: 12.0, 101169: 11.0, 101868: 1.0, 102025: 2.0, 102257: 1.0, 103833: 1.0, 103838: 65.0, 104232: 1.0, 104883: 1.0, 107299: 4.0, 107367: 1.0, 108097: 2.0, 109589: 3.0, 109681: 3.0, 109706: 2.0, 109709: 1.0, 111803: 1.0, 113760: 1.0, 113764: 1.0, 114686: 1.0, 116282: 2.0, 116873: 2.0, 118530: 2.0, 119569: 1.0, 120904: 2.0, 121517: 1.0, 123319: 1.0, 124643: 1.0, 125133: 3.0, 125353: 6.0, 125426: 1.0, 125943: 1.0, 126229: 3.0, 126307: 15.0, 126466: 7.0, 129154: 16.0, 130372: 1.0, 130480: 1.0, 132215: 4.0, 132681: 1.0, 132778: 2.0, 132909: 2.0, 133143: 7.0, 133210: 1.0, 133680: 1.0, 135092: 1.0, 135483: 1.0, 135533: 1.0, 135560: 2.0, 135568: 1.0, 136394: 5.0, 136800: 1.0, 137685: 1.0, 138655: 2.0, 138979: 1.0, 139098: 4.0, 140586: 5.0, 141522: 1.0, 141723: 1.0, 142096: 2.0, 147097: 2.0, 147268: 1.0, 148927: 1.0, 151536: 1.0, 152465: 2.0, 152881: 2.0, 153901: 9.0, 156250: 1.0, 159281: 2.0, 159494: 11.0, 159565: 1.0, 160735: 4.0, 161061: 7.0, 161095: 1.0, 161826: 18.0, 162111: 1.0, 162130: 3.0, 163322: 1.0, 164273: 1.0, 164342: 3.0, 164390: 1.0, 165267: 1.0, 165312: 1.0, 165700: 1.0, 165789: 1.0, 166710: 1.0, 167122: 2.0, 167152: 3.0, 167643: 1.0, 168976: 5.0, 169800: 2.0, 170414: 1.0, 170993: 1.0, 171284: 2.0, 172634: 1.0, 172760: 1.0, 174083: 1.0, 174611: 2.0, 175321: 1.0, 175329: 1.0, 175413: 1.0, 175541: 2.0, 175861: 1.0, 176964: 3.0, 178347: 1.0, 178534: 2.0, 180535: 1.0, 181389: 1.0, 182749: 1.0, 184066: 5.0, 186169: 5.0, 186671: 3.0, 187278: 1.0, 188424: 1.0, 188572: 5.0, 189072: 5.0, 189683: 3.0, 190020: 1.0, 190065: 3.0, 190184: 5.0, 190499: 4.0, 191672: 1.0, 192310: 2.0, 193412: 1.0, 193860: 1.0, 194536: 13.0, 196369: 2.0, 197494: 1.0, 197759: 4.0, 202109: 3.0, 203001: 2.0, 203072: 1.0, 203458: 1.0, 204556: 3.0, 205044: 31.0, 205340: 1.0, 206116: 1.0, 206130: 3.0, 206255: 2.0, 206369: 1.0, 206410: 3.0, 207020: 2.0, 207926: 2.0, 208001: 3.0, 209871: 1.0, 211593: 1.0, 211829: 1.0, 212053: 1.0, 212728: 1.0, 213268: 8.0, 216323: 4.0, 217396: 2.0, 217778: 1.0, 217976: 1.0, 218117: 1.0, 218285: 1.0, 218825: 15.0, 219047: 2.0, 219267: 2.0, 219753: 1.0, 220060: 2.0, 220184: 1.0, 220431: 1.0, 220538: 4.0, 220792: 1.0, 221223: 1.0, 222453: 24.0, 222974: 1.0, 223970: 3.0, 226147: 22.0, 226288: 36.0, 226642: 1.0, 227055: 1.0, 227410: 54.0, 227860: 1.0, 229407: 1.0, 229543: 1.0, 231428: 4.0, 232867: 4.0, 232894: 1.0, 233974: 1.0, 234022: 1.0, 235287: 1.0, 236986: 3.0, 239029: 1.0, 239509: 14.0, 239516: 2.0, 239929: 1.0, 239942: 3.0, 240061: 2.0, 240528: 2.0, 241394: 2.0, 241590: 1.0, 242101: 15.0, 242856: 1.0, 243000: 1.0, 243094: 2.0, 243396: 1.0, 245898: 1.0, 246066: 2.0, 246349: 1.0, 247107: 2.0, 247360: 1.0, 248433: 1.0, 248961: 2.0, 249180: 62.0, 249351: 1.0, 249943: 1.0, 251824: 1.0, 252543: 1.0, 252859: 1.0, 253174: 1.0, 253475: 1.0, 258278: 1.0, 259167: 3.0, 259273: 2.0, 259362: 1.0, 259523: 2.0, 261388: 2.0, 261454: 1.0}))]"
      ]
     },
     "execution_count": 106,
     "metadata": {},
     "output_type": "execute_result"
    }
   ],
   "source": [
    "tf.select('rawFeatures').take(2)"
   ]
  },
  {
   "cell_type": "code",
   "execution_count": 107,
   "metadata": {
    "_cell_guid": "9a796e2d-e695-46f1-b5ad-208161c485ad",
    "_kg_hide-output": true,
    "_uuid": "e2d3895da578cea7989d6ddc10a10cfe1a75c0b0",
    "collapsed": true
   },
   "outputs": [],
   "source": [
    "# Build the idf model and transform the original token frequencies into their tf-idf counterparts\n",
    "idf = IDF(inputCol=\"rawFeatures\", outputCol=\"features\")\n",
    "idfModel = idf.fit(tf) \n",
    "tfidf = idfModel.transform(tf)"
   ]
  },
  {
   "cell_type": "code",
   "execution_count": 108,
   "metadata": {
    "_cell_guid": "96bf15df-22d9-4709-8e98-2d3e878b5103",
    "_kg_hide-output": true,
    "_uuid": "cc3cbb297a1df47156e18aa7c18ba0e698cd5fa1"
   },
   "outputs": [
    {
     "data": {
      "text/plain": [
       "Row(features=SparseVector(262144, {619: 2.2713, 4869: 3.1033, 5377: 3.5849, 5381: 0.5466, 6051: 2.1258, 8630: 1.9813, 9639: 0.1014, 10625: 5.9544, 11689: 14.7254, 15664: 0.6228, 15773: 3.2413, 15889: 0.1185, 16332: 0.2657, 17349: 4.7352, 19153: 2.0897, 19208: 0.7155, 19862: 2.8669, 22939: 11.6227, 24145: 1.4903, 24176: 4.4589, 24417: 0.7848, 24661: 3.792, 24980: 0.6546, 25000: 1.3235, 25217: 2.3727, 25551: 0.9175, 25570: 0.4592, 29945: 0.5483, 30905: 2.614, 31463: 1.894, 33182: 1.2852, 34140: 2.195, 35584: 3.2413, 42438: 4.3147, 44548: 6.5735, 47484: 3.9043, 48448: 0.0994, 49213: 4.3763, 49936: 7.1331, 50293: 3.5706, 50940: 0.6777, 52206: 1.8927, 52805: 2.3709, 52914: 1.141, 53049: 4.494, 56614: 8.0615, 59853: 0.4661, 61951: 2.0501, 63295: 4.4589, 66458: 5.575, 66980: 0.5346, 71002: 2.8495, 71524: 1.638, 71826: 2.9136, 72609: 2.0062, 74383: 1.9222, 77113: 5.6862, 77275: 6.2168, 80689: 4.7817, 80848: 3.438, 81566: 0.7914, 82111: 1.2569, 87478: 1.2095, 89188: 3.4318, 90138: 3.5565, 90757: 5.0016, 91028: 5.5237, 91677: 0.0603, 91878: 2.0595, 94533: 0.8149, 95402: 4.1374, 95477: 3.5565, 95975: 3.3895, 96638: 2.6993, 96822: 2.1932, 99500: 6.3222, 100258: 0.0869, 100604: 2.3752, 101160: 1.902, 101169: 0.1633, 103838: 0.036, 107299: 0.7192, 107332: 1.665, 108541: 0.3911, 108922: 1.4581, 113764: 0.2041, 114178: 5.6862, 114686: 1.852, 116056: 4.2289, 116782: 1.1831, 120904: 0.3961, 121839: 11.9604, 126466: 0.2465, 130698: 10.6487, 130894: 5.4749, 133143: 0.6002, 134867: 1.5987, 135499: 1.1115, 138677: 9.9793, 140390: 0.6925, 140784: 3.0105, 141416: 6.1215, 141522: 1.4136, 143789: 1.015, 144418: 40.2276, 146945: 3.8654, 147268: 2.4791, 149300: 3.5154, 149868: 3.077, 158559: 5.1521, 159354: 2.2465, 162231: 2.0784, 163502: 1.8125, 166629: 2.6817, 169645: 6.1215, 171284: 4.4556, 172634: 6.8868, 173511: 3.0813, 175321: 0.4385, 175541: 0.4147, 176964: 0.7783, 179832: 4.0181, 187278: 3.9741, 188570: 7.4806, 190676: 5.0854, 191236: 1.7718, 195372: 8.4579, 199255: 1.3123, 202534: 3.6911, 205044: 0.0587, 205876: 4.5876, 206410: 9.2359, 206426: 6.3222, 206616: 3.9142, 208352: 11.3724, 215995: 1.4087, 218086: 2.5532, 222037: 3.8847, 222453: 0.0295, 222711: 1.7248, 224066: 3.3719, 226681: 6.7276, 227003: 4.5304, 227410: 0.0882, 227860: 1.9973, 228671: 5.575, 229407: 1.8323, 230277: 4.8558, 230441: 4.065, 230634: 7.8999, 230962: 3.0254, 231428: 1.6756, 231900: 8.7188, 233566: 5.1182, 237968: 2.3332, 240061: 1.6788, 240702: 2.9979, 243094: 1.2491, 243455: 6.7276, 245474: 4.2567, 247586: 7.1331, 249180: 0.0, 251904: 2.8358, 252272: 1.0277, 252298: 3.8944, 252519: 5.2613, 255766: 4.1249, 258463: 7.0716, 261388: 2.2446}))"
      ]
     },
     "execution_count": 108,
     "metadata": {},
     "output_type": "execute_result"
    }
   ],
   "source": [
    "tfidf.select(\"features\").first()"
   ]
  },
  {
   "cell_type": "markdown",
   "metadata": {
    "_cell_guid": "bd1b8ba2-81e8-49f5-8476-caae7f117d95",
    "_uuid": "6117dccbd6935be3c83ab5b642dc45a69c32d960"
   },
   "source": [
    "Do a test first to practise with the LogisticRegression class. I like to create instances of objects first tocheck their methods and docstrings and figure out how to access data.\n",
    "\n",
    "Build a logistic regression model for the binary toxic column.\n",
    "Use the features column (the tfidf values) as the input vectors, `X`, and the toxic column as output vector, `y`."
   ]
  },
  {
   "cell_type": "code",
   "execution_count": 109,
   "metadata": {
    "_cell_guid": "f2dddc91-7f4a-4105-88fe-323b1c464b1f",
    "_kg_hide-output": true,
    "_uuid": "4a6b9c340e40dd75100908d410c495218f5b68df"
   },
   "outputs": [],
   "source": [
    "REG = 0.1\n",
    "label_stringIdx = StringIndexer(inputCol = \"Category\", outputCol = \"label\")\n",
    "pipeline = Pipeline(stages=[label_stringIdx])\n",
    "pipelineFit = pipeline.fit(tfidf)\n",
    "dataset = pipelineFit.transform(tfidf)"
   ]
  },
  {
   "cell_type": "code",
   "execution_count": 110,
   "metadata": {
    "_cell_guid": "3c46f266-38de-4a7c-9320-143a3d7f01d4",
    "_kg_hide-output": true,
    "_uuid": "1bb8a18067f58ac2ecadc7552fa5e7a170d04e53",
    "collapsed": true
   },
   "outputs": [],
   "source": [
    "lr = LogisticRegression(featuresCol=\"features\", labelCol='label', regParam=REG)\n"
   ]
  },
  {
   "cell_type": "code",
   "execution_count": 111,
   "metadata": {
    "_cell_guid": "dad47cf8-377a-4650-ac58-2e32dbbe0e98",
    "_uuid": "3fb0cfc2d1ec4fe72ef2108e339d9d5706522a3b",
    "scrolled": false
   },
   "outputs": [
    {
     "name": "stdout",
     "output_type": "stream",
     "text": [
      "+--------+--------------------+--------------------+--------------------+--------------------+-----+\n",
      "|Category|                Body|               words|         rawFeatures|            features|label|\n",
      "+--------+--------------------+--------------------+--------------------+--------------------+-----+\n",
      "|business|SEOUL  WITH A FAL...|[seoul, , with, a...|(262144,[619,4869...|(262144,[619,4869...|  0.0|\n",
      "|business|JEFFERSON CITY  M...|[jefferson, city,...|(262144,[2325,316...|(262144,[2325,316...|  0.0|\n",
      "|business|WASHINGTON  THE T...|[washington, , th...|(262144,[1598,176...|(262144,[1598,176...|  0.0|\n",
      "|business|REUTERS    METLIF...|[reuters, , , , m...|(262144,[571,1846...|(262144,[571,1846...|  0.0|\n",
      "|  sports|DALLAS  WHEN DALL...|[dallas, , when, ...|(262144,[8804,963...|(262144,[8804,963...|  2.0|\n",
      "+--------+--------------------+--------------------+--------------------+--------------------+-----+\n",
      "only showing top 5 rows\n",
      "\n"
     ]
    }
   ],
   "source": [
    "dataset.show(5)"
   ]
  },
  {
   "cell_type": "code",
   "execution_count": 112,
   "metadata": {
    "_cell_guid": "078372ce-c39c-4df9-91bf-ecd96711992e",
    "_kg_hide-output": true,
    "_uuid": "e4e91288892513025a146ad8383fa10a9a7f0a9a"
   },
   "outputs": [],
   "source": [
    "lrModel = lr.fit(dataset.limit(5000))"
   ]
  },
  {
   "cell_type": "code",
   "execution_count": 113,
   "metadata": {
    "_cell_guid": "4f2d1427-12da-471d-93d0-30e626e5b7ce",
    "_kg_hide-output": true,
    "_uuid": "19a0fe5536023cd788f947a99f445ea93d4db98c",
    "collapsed": true
   },
   "outputs": [],
   "source": [
    "res_train = lrModel.transform(dataset)"
   ]
  },
  {
   "cell_type": "code",
   "execution_count": 114,
   "metadata": {
    "_cell_guid": "372ebe40-92bb-4680-b10f-a6711c94898c",
    "_kg_hide-output": true,
    "_uuid": "9dd3a77718fb203eaeca62f40fcb64e6fb5fe72b"
   },
   "outputs": [
    {
     "name": "stdout",
     "output_type": "stream",
     "text": [
      "+--------------------+-------------+--------------------+-----+----------+\n",
      "|                Body|     Category|         probability|label|prediction|\n",
      "+--------------------+-------------+--------------------+-----+----------+\n",
      "|SEOUL  WITH A FAL...|     business|[0.98191136542019...|  0.0|       0.0|\n",
      "|JEFFERSON CITY  M...|     business|[0.98055222969936...|  0.0|       0.0|\n",
      "|WASHINGTON  THE T...|     business|[0.59419377887003...|  0.0|       0.0|\n",
      "|REUTERS    METLIF...|     business|[0.98217426198793...|  0.0|       0.0|\n",
      "|DALLAS  WHEN DALL...|       sports|[0.06673936904185...|  2.0|       2.0|\n",
      "|SOFIA  BULGARIA C...|     business|[0.98353054921268...|  0.0|       0.0|\n",
      "|PHOENIX  WHEN FOR...|entertainment|[0.16686579619068...|  3.0|       1.0|\n",
      "|SARA MELINDA BEES...|entertainment|[0.08246612234435...|  3.0|       3.0|\n",
      "|ON A WARM SATURDA...|       sports|[0.00477047382362...|  2.0|       2.0|\n",
      "|FEW WOULD DISPUTE...|       sports|[0.00582462073688...|  2.0|       2.0|\n",
      "|REMARKS BY PRESID...|     business|[0.65241592582272...|  0.0|       0.0|\n",
      "|COPENHAGEN  AT FI...|     politics|[0.33561957304280...|  1.0|       1.0|\n",
      "|COLLEGE STUDENTS ...|     business|[0.98894862079466...|  0.0|       0.0|\n",
      "|IT FEELS LIKE KAN...|entertainment|[0.33315143911020...|  3.0|       0.0|\n",
      "|LOS ANGELES  U S ...|     business|[0.98787198895469...|  0.0|       0.0|\n",
      "|LONDON  IN A COUP...|       sports|[0.02701932883461...|  2.0|       3.0|\n",
      "|SEOUL  SOUTH KORE...|     politics|[0.01560803159246...|  1.0|       1.0|\n",
      "|PROPITIOUS  PR PI...|     politics|[0.02484921857397...|  1.0|       1.0|\n",
      "|REUTERS    UNITED...|     business|[0.99809812967170...|  0.0|       0.0|\n",
      "|WASHINGTON  U S  ...|     business|[0.34019591622126...|  0.0|       1.0|\n",
      "+--------------------+-------------+--------------------+-----+----------+\n",
      "only showing top 20 rows\n",
      "\n"
     ]
    }
   ],
   "source": [
    "res_train.select(\"Body\",\"Category\",\"probability\",\"label\",\"prediction\").show(20)"
   ]
  },
  {
   "cell_type": "code",
   "execution_count": 116,
   "metadata": {
    "_cell_guid": "dcf8ea8a-96f2-4f51-9c60-7250ce7f525b",
    "_kg_hide-output": true,
    "_uuid": "e0e0f916ad0f5e3fb8a9817f89d89aa3b10d4499"
   },
   "outputs": [
    {
     "name": "stdout",
     "output_type": "stream",
     "text": [
      "+--------+--------------------+--------------------+--------------------+--------------------+-----+--------------------+--------------------+----------+\n",
      "|Category|                Body|               words|         rawFeatures|            features|label|       rawPrediction|         probability|prediction|\n",
      "+--------+--------------------+--------------------+--------------------+--------------------+-----+--------------------+--------------------+----------+\n",
      "|business|SEOUL  WITH A FAL...|[seoul, , with, a...|(262144,[619,4869...|(262144,[619,4869...|  0.0|[3.85147051851027...|[0.98191136542019...|       0.0|\n",
      "|business|JEFFERSON CITY  M...|[jefferson, city,...|(262144,[2325,316...|(262144,[2325,316...|  0.0|[5.32715364628057...|[0.98055222969936...|       0.0|\n",
      "|business|WASHINGTON  THE T...|[washington, , th...|(262144,[1598,176...|(262144,[1598,176...|  0.0|[2.97982138154850...|[0.59419377887003...|       0.0|\n",
      "|business|REUTERS    METLIF...|[reuters, , , , m...|(262144,[571,1846...|(262144,[571,1846...|  0.0|[3.88205467459314...|[0.98217426198793...|       0.0|\n",
      "|  sports|DALLAS  WHEN DALL...|[dallas, , when, ...|(262144,[8804,963...|(262144,[8804,963...|  2.0|[-0.2944830684643...|[0.06673936904185...|       2.0|\n",
      "+--------+--------------------+--------------------+--------------------+--------------------+-----+--------------------+--------------------+----------+\n",
      "only showing top 5 rows\n",
      "\n"
     ]
    }
   ],
   "source": [
    "res_train.show(5)"
   ]
  },
  {
   "cell_type": "markdown",
   "metadata": {
    "_cell_guid": "8850f0eb-4ad4-4446-ae94-ba037ae953ca",
    "_uuid": "b9d9e39487f9f9cb4f9e7dbb1b356282fa9c9874"
   },
   "source": [
    "#### Select the probability column\n",
    "---\n",
    "Create a user-defined function (udf) to select the second element in each row of the column vector"
   ]
  },
  {
   "cell_type": "code",
   "execution_count": 117,
   "metadata": {
    "_cell_guid": "4bce3b7a-d06c-473e-8071-af4e7d193a62",
    "_kg_hide-output": true,
    "_uuid": "b37575b07064a815aa7627274f0c9dd14feb3694",
    "collapsed": true
   },
   "outputs": [],
   "source": [
    "extract_prob = F.udf(lambda x: float(x[1]), T.FloatType())"
   ]
  },
  {
   "cell_type": "code",
   "execution_count": 118,
   "metadata": {
    "_cell_guid": "54a4db2c-0c71-4b22-b08f-d3649bd6936c",
    "_kg_hide-output": true,
    "_uuid": "e292f81985d490cf103bf48d10051cd27d96cf84"
   },
   "outputs": [
    {
     "name": "stdout",
     "output_type": "stream",
     "text": [
      "+------------+----------+\n",
      "|       proba|prediction|\n",
      "+------------+----------+\n",
      "| 0.008070086|       0.0|\n",
      "|  0.01911029|       0.0|\n",
      "|  0.40206984|       0.0|\n",
      "| 0.009203206|       0.0|\n",
      "| 0.048210133|       2.0|\n",
      "| 0.008524606|       0.0|\n",
      "|    0.501839|       1.0|\n",
      "|  0.08413483|       3.0|\n",
      "|0.0030365665|       2.0|\n",
      "|0.0034108225|       2.0|\n",
      "|  0.32620102|       0.0|\n",
      "|  0.49998915|       1.0|\n",
      "| 0.007310296|       0.0|\n",
      "|  0.33218947|       0.0|\n",
      "| 0.006979774|       0.0|\n",
      "| 0.016729414|       3.0|\n",
      "|  0.97994304|       1.0|\n",
      "|  0.95325756|       1.0|\n",
      "|0.0010521865|       0.0|\n",
      "|  0.64051425|       1.0|\n",
      "+------------+----------+\n",
      "only showing top 20 rows\n",
      "\n"
     ]
    }
   ],
   "source": [
    "(res_train.withColumn(\"proba\", extract_prob(\"probability\"))\n",
    " .select(\"proba\", \"prediction\")\n",
    " .show())"
   ]
  },
  {
   "cell_type": "markdown",
   "metadata": {
    "_cell_guid": "e1c73a6d-4425-4e1b-89a5-9c6f91e9ede1",
    "_uuid": "a55c7af729df2aefd67d18efe2cd8f2eed71436c"
   },
   "source": [
    "### Create the results DataFrame\n",
    "---\n",
    "Convert the test text"
   ]
  },
  {
   "cell_type": "code",
   "execution_count": 119,
   "metadata": {},
   "outputs": [
    {
     "name": "stdout",
     "output_type": "stream",
     "text": [
      "+--------+--------------------+\n",
      "|Category|                Body|\n",
      "+--------+--------------------+\n",
      "|business|SEOUL  WITH A FAL...|\n",
      "|business|JEFFERSON CITY  M...|\n",
      "|business|WASHINGTON  THE T...|\n",
      "|business|REUTERS    METLIF...|\n",
      "|  sports|DALLAS  WHEN DALL...|\n",
      "+--------+--------------------+\n",
      "only showing top 5 rows\n",
      "\n"
     ]
    }
   ],
   "source": [
    "test = sqlContext.read.format('com.databricks.spark.csv').options(header='true', inferschema='true').load('articles-test.csv')\n",
    "drop_list = ['Dates', 'Topic', 'Page']\n",
    "test = test.select([column for column in train.columns if column not in drop_list])\n",
    "train.show(5)"
   ]
  },
  {
   "cell_type": "code",
   "execution_count": 120,
   "metadata": {
    "_cell_guid": "209ba4e2-85bd-45b9-80fd-a7779fae41c3",
    "_kg_hide-output": true,
    "_uuid": "4af61177309dd40ea3f62943761ee5ff10b78858"
   },
   "outputs": [],
   "source": [
    "test_tokens = tokenizer.transform(test)\n",
    "test_tf = hashingTF.transform(test_tokens)\n",
    "test_tfidf = idfModel.transform(test_tf)\n",
    "label_stringIdxTest = StringIndexer(inputCol = \"Category\", outputCol = \"label\")\n",
    "pipeline = Pipeline(stages=[label_stringIdxTest])\n",
    "pipelineFit = pipeline.fit(test_tfidf)\n",
    "dataset = pipelineFit.transform(test_tfidf)"
   ]
  },
  {
   "cell_type": "markdown",
   "metadata": {
    "_cell_guid": "319a6726-f19c-478b-8245-56a4eacfc71d",
    "_uuid": "07e9b552dc9d4064c8cc5dca109bfd03a6ed9d8a"
   },
   "source": [
    "Initialize the new DataFrame with the id column"
   ]
  },
  {
   "cell_type": "code",
   "execution_count": 122,
   "metadata": {
    "_cell_guid": "e3a0e073-efcd-42b4-880d-1c2e38faed8d",
    "_kg_hide-output": true,
    "_uuid": "02d945cd12438884f4274b63c6921bd376a167eb"
   },
   "outputs": [
    {
     "data": {
      "text/plain": [
       "Row(Category='business')"
      ]
     },
     "execution_count": 122,
     "metadata": {},
     "output_type": "execute_result"
    }
   ],
   "source": [
    "test_res = dataset.select('Category')\n",
    "test_res.head()"
   ]
  },
  {
   "cell_type": "markdown",
   "metadata": {
    "_cell_guid": "1748dd1b-2a21-4728-8794-3e3bf8cf7da2",
    "_uuid": "4b60128f3e2997e819505f47280afbb2aeccdb92"
   },
   "source": [
    "Make predictions for each class"
   ]
  },
  {
   "cell_type": "code",
   "execution_count": 123,
   "metadata": {
    "_cell_guid": "351a660b-6bda-4d8f-ac80-c9a2ce7cca7c",
    "_kg_hide-output": true,
    "_uuid": "fad3a55f3b226f88c6faf8f3e3b7deffa7067212"
   },
   "outputs": [
    {
     "ename": "NameError",
     "evalue": "name 'outputCol' is not defined",
     "output_type": "error",
     "traceback": [
      "\u001b[0;31m---------------------------------------------------------------------------\u001b[0m",
      "\u001b[0;31mNameError\u001b[0m                                 Traceback (most recent call last)",
      "\u001b[0;32m<ipython-input-123-5f6c4eb54475>\u001b[0m in \u001b[0;36m<module>\u001b[0;34m()\u001b[0m\n\u001b[1;32m      1\u001b[0m \u001b[0mtest_probs\u001b[0m \u001b[0;34m=\u001b[0m \u001b[0;34m[\u001b[0m\u001b[0;34m]\u001b[0m\u001b[0;34m\u001b[0m\u001b[0m\n\u001b[0;32m----> 2\u001b[0;31m \u001b[0;32mfor\u001b[0m \u001b[0mcol\u001b[0m \u001b[0;32min\u001b[0m \u001b[0moutputCol\u001b[0m\u001b[0;34m:\u001b[0m\u001b[0;34m\u001b[0m\u001b[0m\n\u001b[0m\u001b[1;32m      3\u001b[0m     \u001b[0mprint\u001b[0m\u001b[0;34m(\u001b[0m\u001b[0mcol\u001b[0m\u001b[0;34m)\u001b[0m\u001b[0;34m\u001b[0m\u001b[0m\n\u001b[1;32m      4\u001b[0m     \u001b[0mlr\u001b[0m \u001b[0;34m=\u001b[0m \u001b[0mLogisticRegression\u001b[0m\u001b[0;34m(\u001b[0m\u001b[0mfeaturesCol\u001b[0m\u001b[0;34m=\u001b[0m\u001b[0;34m\"features\"\u001b[0m\u001b[0;34m,\u001b[0m \u001b[0mlabelCol\u001b[0m\u001b[0;34m=\u001b[0m\u001b[0mcol\u001b[0m\u001b[0;34m,\u001b[0m \u001b[0mregParam\u001b[0m\u001b[0;34m=\u001b[0m\u001b[0mREG\u001b[0m\u001b[0;34m)\u001b[0m\u001b[0;34m\u001b[0m\u001b[0m\n\u001b[1;32m      5\u001b[0m     \u001b[0mprint\u001b[0m\u001b[0;34m(\u001b[0m\u001b[0;34m\"...fitting\"\u001b[0m\u001b[0;34m)\u001b[0m\u001b[0;34m\u001b[0m\u001b[0m\n",
      "\u001b[0;31mNameError\u001b[0m: name 'outputCol' is not defined"
     ]
    }
   ],
   "source": [
    "test_probs = []\n",
    "for col in outputCol:\n",
    "    print(col)\n",
    "    lr = LogisticRegression(featuresCol=\"features\", labelCol=col, regParam=REG)\n",
    "    print(\"...fitting\")\n",
    "    lrModel = lr.fit(tfidf)\n",
    "    print(\"...predicting\")\n",
    "    res = lrModel.transform(test_tfidf)\n",
    "    print(\"...appending result\")\n",
    "    test_res = test_res.join(res.select('id', 'probability'), on=\"id\")\n",
    "    print(\"...extracting probability\")\n",
    "    test_res = test_res.withColumn(col, extract_prob('probability')).drop(\"probability\")\n",
    "    test_res.show(5)"
   ]
  },
  {
   "cell_type": "code",
   "execution_count": 26,
   "metadata": {
    "_cell_guid": "e2917a44-9d5a-48f9-9116-3add44bbc72f",
    "_uuid": "d93ca97fb1dd1e6462910bcb68f38224015dd134",
    "collapsed": true
   },
   "outputs": [],
   "source": [
    "test_res.show(5)"
   ]
  },
  {
   "cell_type": "code",
   "execution_count": 27,
   "metadata": {
    "_cell_guid": "9b91c4c5-73a6-46ca-b4d2-14e6b4a88a56",
    "_uuid": "d0d35fd268cb0b88375781555a540602f2fa0544",
    "collapsed": true
   },
   "outputs": [],
   "source": [
    "test_res.coalesce(1).write.csv('./results/spark_lr.csv', mode='overwrite', header=True)"
   ]
  },
  {
   "cell_type": "markdown",
   "metadata": {
    "_cell_guid": "df956a77-ea93-4b17-b1ff-a85afbc9189b",
    "_uuid": "9eb8c799c2b4811087f793012dc67fbc9b7ee671"
   },
   "source": [
    "The output is actually a directory and not a csv file. Within the directory there is one or more csv files, which together make up the entire csv results. I used the cat function to concatenate these csv files together."
   ]
  },
  {
   "cell_type": "code",
   "execution_count": 28,
   "metadata": {
    "_cell_guid": "350d64dd-6553-49f5-a3ae-7852c1d8aa73",
    "_uuid": "39e647a3583b0731ced9b17b05ce3ebd667d6d92",
    "collapsed": true
   },
   "outputs": [],
   "source": [
    "!cat results/spark_lr.csv/part*.csv > spark_lr.csv"
   ]
  },
  {
   "cell_type": "code",
   "execution_count": 29,
   "metadata": {
    "_cell_guid": "8bafb622-b9e7-4a96-84ba-1b057b63b9a6",
    "_uuid": "75e8c9ac9ea4e3fa5eb7eb5cd41910e4ed43f23a",
    "collapsed": true
   },
   "outputs": [],
   "source": [
    "ls"
   ]
  },
  {
   "cell_type": "markdown",
   "metadata": {
    "_cell_guid": "4809dd62-84b5-4a66-83d6-c239be4859a6",
    "_uuid": "e37fb3c8e75e3a2deddfdf14dcbc01b34d5a9630",
    "collapsed": true
   },
   "source": [
    "This submission scores 0.8797 on the public leaderboard."
   ]
  }
 ],
 "metadata": {
  "kernelspec": {
   "display_name": "Python 3",
   "language": "python",
   "name": "python3"
  },
  "language_info": {
   "codemirror_mode": {
    "name": "ipython",
    "version": 3
   },
   "file_extension": ".py",
   "mimetype": "text/x-python",
   "name": "python",
   "nbconvert_exporter": "python",
   "pygments_lexer": "ipython3",
   "version": "3.6.3"
  }
 },
 "nbformat": 4,
 "nbformat_minor": 1
}
